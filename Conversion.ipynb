{
 "cells": [
  {
   "cell_type": "code",
   "execution_count": 4,
   "metadata": {},
   "outputs": [],
   "source": [
    "##conversion from jpg to pdf\n",
    "import img2pdf \n",
    "from PIL import Image \n",
    "import os \n",
    "from glob import glob                                                           \n",
    "import cv2 \n",
    "from pdf2image import convert_from_path"
   ]
  },
  {
   "cell_type": "code",
   "execution_count": 40,
   "metadata": {},
   "outputs": [],
   "source": [
    "##Conversion from JPG to JPEG\n",
    "\n",
    "for i in range(12,21):\n",
    "    #img = Image.open(\"C:\\\\DataScience\\\\DeepCV\\\\Project\\\\PAN\\\\PAN\\\\Capture \"+str(i)+\".jpg\").convert('RGB')\n",
    "    #img.save(\"C:\\\\DataScience\\\\DeepCV\\\\Project\\\\PAN\\\\JPEG\\\\Capture \"+str(i)+\".jpeg\", \"jpeg\")\n",
    "    img = Image.open(\"C:\\\\DataScience\\\\DeepCV\\\\Project\\\\PAN\\\\PAN\\\\pan_\"+str(i)+\".jpg\").convert('RGB')\n",
    "    img.save(\"C:\\\\DataScience\\\\DeepCV\\\\Project\\\\PAN\\\\JPEG\\\\pan_\"+str(i)+\".jpeg\", \"jpeg\")\n",
    "\n"
   ]
  },
  {
   "cell_type": "code",
   "execution_count": 44,
   "metadata": {},
   "outputs": [],
   "source": [
    "## individual jpg to jpeg\n",
    "img = Image.open(\"C:\\\\DataScience\\\\DeepCV\\\\Project\\\\PAN\\\\PAN\\\\pan_16 - Copy.jpg\").convert('RGB')\n",
    "img.save(\"C:\\\\DataScience\\\\DeepCV\\\\Project\\\\PAN\\\\JPEG\\\\pan_16-Copy.jpeg\", \"jpeg\")"
   ]
  },
  {
   "cell_type": "code",
   "execution_count": 51,
   "metadata": {},
   "outputs": [
    {
     "name": "stdout",
     "output_type": "stream",
     "text": [
      "Success\n"
     ]
    }
   ],
   "source": [
    "##JPEG Split and Conversion from JPG to PDF\n",
    "Validation=True\n",
    "while Validation:\n",
    "     for i in range(1,34):\n",
    "          ## JPEG FILES\n",
    "          if i >= 1 and i < 19:\n",
    "             img = Image.open(\"C:\\\\DataScience\\\\DeepCV\\\\Project\\\\PAN\\\\JPEG\\\\Capture \"+str(i)+\".jpeg\").convert('RGB')\n",
    "             img.save(\"C:\\\\DataScience\\\\DeepCV\\\\Project\\\\PAN\\\\OUTPUT_JPEG\\\\Capture \"+str(i)+\".jpeg\", \"jpeg\")\n",
    "          ## PDF FILEs\n",
    "          elif i >=19 and i < 34:\n",
    "                 img = Image.open(\"C:\\\\DataScience\\\\DeepCV\\\\Project\\\\PAN\\\\JPEG\\\\Capture \"+str(i)+\".jpeg\").convert('RGB')\n",
    "                 img.save(\"C:\\\\DataScience\\\\DeepCV\\\\Project\\\\PAN\\\\OUTPUT_PDF\\\\Capture \"+str(i)+\".pdf\", \"pdf\")\n",
    "            \n",
    "     Validation=False\n",
    "     print(\"Success\")\n",
    "    \n",
    "    \n",
    "\n"
   ]
  },
  {
   "cell_type": "code",
   "execution_count": 52,
   "metadata": {},
   "outputs": [
    {
     "name": "stdout",
     "output_type": "stream",
     "text": [
      "Success\n"
     ]
    }
   ],
   "source": [
    "## JPEG TO PNG Conversion and PDF\n",
    "Validation=True\n",
    "while Validation:\n",
    "     for i in range(1,21):\n",
    "          ## PDF FILES\n",
    "          if i >=1 and i < 5:\n",
    "                 img = Image.open(\"C:\\\\DataScience\\\\DeepCV\\\\Project\\\\PAN\\\\JPEG\\\\pan_\"+str(i)+\".jpeg\").convert('RGB')\n",
    "                 img.save(\"C:\\\\DataScience\\\\DeepCV\\\\Project\\\\PAN\\\\OUTPUT_PDF\\\\pan_\"+str(i)+\".pdf\", \"pdf\")\n",
    "          # PNG Files  \n",
    "          elif i == 11:\n",
    "                pass\n",
    "          elif i >= 5 and i < 21 and i != 11:\n",
    "                 img = Image.open(\"C:\\\\DataScience\\\\DeepCV\\\\Project\\\\PAN\\\\JPEG\\\\pan_\"+str(i)+\".jpeg\").convert('RGB')\n",
    "                 img.save(\"C:\\\\DataScience\\\\DeepCV\\\\Project\\\\PAN\\\\OUTPUT_PNG\\\\pan_\"+str(i)+\".png\", \"png\")\n",
    "            \n",
    "     Validation=False\n",
    "     print(\"Success\")\n",
    "\n"
   ]
  },
  {
   "cell_type": "code",
   "execution_count": 54,
   "metadata": {},
   "outputs": [],
   "source": [
    "##png conversion of 2 files\n",
    "img = Image.open(\"C:\\\\DataScience\\\\DeepCV\\\\Project\\\\PAN\\\\JPEG\\\\pan_16-Copy.jpeg\").convert('RGB')\n",
    "img.save(\"C:\\\\DataScience\\\\DeepCV\\\\Project\\\\PAN\\\\OUTPUT_PNG\\\\pan_16-Copy.png\", \"png\")"
   ]
  },
  {
   "cell_type": "code",
   "execution_count": 5,
   "metadata": {},
   "outputs": [
    {
     "ename": "PDFInfoNotInstalledError",
     "evalue": "Unable to get page count. Is poppler installed and in PATH?",
     "output_type": "error",
     "traceback": [
      "\u001b[1;31m---------------------------------------------------------------------------\u001b[0m",
      "\u001b[1;31mFileNotFoundError\u001b[0m                         Traceback (most recent call last)",
      "\u001b[1;32m~\\Anaconda3\\envs\\python-cvcourse\\lib\\site-packages\\pdf2image\\pdf2image.py\u001b[0m in \u001b[0;36mpdfinfo_from_path\u001b[1;34m(pdf_path, userpw, poppler_path, rawdates, timeout)\u001b[0m\n\u001b[0;32m    440\u001b[0m             \u001b[0menv\u001b[0m\u001b[1;33m[\u001b[0m\u001b[1;34m\"LD_LIBRARY_PATH\"\u001b[0m\u001b[1;33m]\u001b[0m \u001b[1;33m=\u001b[0m \u001b[0mpoppler_path\u001b[0m \u001b[1;33m+\u001b[0m \u001b[1;34m\":\"\u001b[0m \u001b[1;33m+\u001b[0m \u001b[0menv\u001b[0m\u001b[1;33m.\u001b[0m\u001b[0mget\u001b[0m\u001b[1;33m(\u001b[0m\u001b[1;34m\"LD_LIBRARY_PATH\"\u001b[0m\u001b[1;33m,\u001b[0m \u001b[1;34m\"\"\u001b[0m\u001b[1;33m)\u001b[0m\u001b[1;33m\u001b[0m\u001b[0m\n\u001b[1;32m--> 441\u001b[1;33m         \u001b[0mproc\u001b[0m \u001b[1;33m=\u001b[0m \u001b[0mPopen\u001b[0m\u001b[1;33m(\u001b[0m\u001b[0mcommand\u001b[0m\u001b[1;33m,\u001b[0m \u001b[0menv\u001b[0m\u001b[1;33m=\u001b[0m\u001b[0menv\u001b[0m\u001b[1;33m,\u001b[0m \u001b[0mstdout\u001b[0m\u001b[1;33m=\u001b[0m\u001b[0mPIPE\u001b[0m\u001b[1;33m,\u001b[0m \u001b[0mstderr\u001b[0m\u001b[1;33m=\u001b[0m\u001b[0mPIPE\u001b[0m\u001b[1;33m)\u001b[0m\u001b[1;33m\u001b[0m\u001b[0m\n\u001b[0m\u001b[0;32m    442\u001b[0m \u001b[1;33m\u001b[0m\u001b[0m\n",
      "\u001b[1;32m~\\Anaconda3\\envs\\python-cvcourse\\lib\\subprocess.py\u001b[0m in \u001b[0;36m__init__\u001b[1;34m(self, args, bufsize, executable, stdin, stdout, stderr, preexec_fn, close_fds, shell, cwd, env, universal_newlines, startupinfo, creationflags, restore_signals, start_new_session, pass_fds, encoding, errors)\u001b[0m\n\u001b[0;32m    708\u001b[0m                                 \u001b[0merrread\u001b[0m\u001b[1;33m,\u001b[0m \u001b[0merrwrite\u001b[0m\u001b[1;33m,\u001b[0m\u001b[1;33m\u001b[0m\u001b[0m\n\u001b[1;32m--> 709\u001b[1;33m                                 restore_signals, start_new_session)\n\u001b[0m\u001b[0;32m    710\u001b[0m         \u001b[1;32mexcept\u001b[0m\u001b[1;33m:\u001b[0m\u001b[1;33m\u001b[0m\u001b[0m\n",
      "\u001b[1;32m~\\Anaconda3\\envs\\python-cvcourse\\lib\\subprocess.py\u001b[0m in \u001b[0;36m_execute_child\u001b[1;34m(self, args, executable, preexec_fn, close_fds, pass_fds, cwd, env, startupinfo, creationflags, shell, p2cread, p2cwrite, c2pread, c2pwrite, errread, errwrite, unused_restore_signals, unused_start_new_session)\u001b[0m\n\u001b[0;32m    996\u001b[0m                                          \u001b[0mos\u001b[0m\u001b[1;33m.\u001b[0m\u001b[0mfspath\u001b[0m\u001b[1;33m(\u001b[0m\u001b[0mcwd\u001b[0m\u001b[1;33m)\u001b[0m \u001b[1;32mif\u001b[0m \u001b[0mcwd\u001b[0m \u001b[1;32mis\u001b[0m \u001b[1;32mnot\u001b[0m \u001b[1;32mNone\u001b[0m \u001b[1;32melse\u001b[0m \u001b[1;32mNone\u001b[0m\u001b[1;33m,\u001b[0m\u001b[1;33m\u001b[0m\u001b[0m\n\u001b[1;32m--> 997\u001b[1;33m                                          startupinfo)\n\u001b[0m\u001b[0;32m    998\u001b[0m             \u001b[1;32mfinally\u001b[0m\u001b[1;33m:\u001b[0m\u001b[1;33m\u001b[0m\u001b[0m\n",
      "\u001b[1;31mFileNotFoundError\u001b[0m: [WinError 2] The system cannot find the file specified",
      "\nDuring handling of the above exception, another exception occurred:\n",
      "\u001b[1;31mPDFInfoNotInstalledError\u001b[0m                  Traceback (most recent call last)",
      "\u001b[1;32m<ipython-input-5-6d661cbe01df>\u001b[0m in \u001b[0;36m<module>\u001b[1;34m\u001b[0m\n\u001b[0;32m      1\u001b[0m \u001b[1;31m## from pdf to JPEG and png\u001b[0m\u001b[1;33m\u001b[0m\u001b[1;33m\u001b[0m\u001b[0m\n\u001b[1;32m----> 2\u001b[1;33m \u001b[0mimages\u001b[0m \u001b[1;33m=\u001b[0m \u001b[0mconvert_from_path\u001b[0m\u001b[1;33m(\u001b[0m\u001b[1;34m\"C:\\\\DataScience\\\\DeepCV\\\\Project\\\\OUTPUT\\\\OUTPUT_PDF\\\\Capture 19.pdf\"\u001b[0m\u001b[1;33m,\u001b[0m \u001b[0moutput_folder\u001b[0m\u001b[1;33m=\u001b[0m\u001b[1;34m\"C:\\\\DataScience\\\\DeepCV\\\\Project\\\\OUTPUT\\\\OUTPUT1_JPEG\\\\Capture 19.jpeg\"\u001b[0m\u001b[1;33m)\u001b[0m\u001b[1;33m\u001b[0m\u001b[0m\n\u001b[0m",
      "\u001b[1;32m~\\Anaconda3\\envs\\python-cvcourse\\lib\\site-packages\\pdf2image\\pdf2image.py\u001b[0m in \u001b[0;36mconvert_from_path\u001b[1;34m(pdf_path, dpi, output_folder, first_page, last_page, fmt, jpegopt, thread_count, userpw, use_cropbox, strict, transparent, single_file, output_file, poppler_path, grayscale, size, paths_only, use_pdftocairo, timeout)\u001b[0m\n\u001b[0;32m     95\u001b[0m         \u001b[0mpoppler_path\u001b[0m \u001b[1;33m=\u001b[0m \u001b[0mpoppler_path\u001b[0m\u001b[1;33m.\u001b[0m\u001b[0mas_posix\u001b[0m\u001b[1;33m(\u001b[0m\u001b[1;33m)\u001b[0m\u001b[1;33m\u001b[0m\u001b[0m\n\u001b[0;32m     96\u001b[0m \u001b[1;33m\u001b[0m\u001b[0m\n\u001b[1;32m---> 97\u001b[1;33m     \u001b[0mpage_count\u001b[0m \u001b[1;33m=\u001b[0m \u001b[0mpdfinfo_from_path\u001b[0m\u001b[1;33m(\u001b[0m\u001b[0mpdf_path\u001b[0m\u001b[1;33m,\u001b[0m \u001b[0muserpw\u001b[0m\u001b[1;33m,\u001b[0m \u001b[0mpoppler_path\u001b[0m\u001b[1;33m=\u001b[0m\u001b[0mpoppler_path\u001b[0m\u001b[1;33m)\u001b[0m\u001b[1;33m[\u001b[0m\u001b[1;34m\"Pages\"\u001b[0m\u001b[1;33m]\u001b[0m\u001b[1;33m\u001b[0m\u001b[0m\n\u001b[0m\u001b[0;32m     98\u001b[0m \u001b[1;33m\u001b[0m\u001b[0m\n\u001b[0;32m     99\u001b[0m     \u001b[1;31m# We start by getting the output format, the buffer processing function and if we need pdftocairo\u001b[0m\u001b[1;33m\u001b[0m\u001b[1;33m\u001b[0m\u001b[0m\n",
      "\u001b[1;32m~\\Anaconda3\\envs\\python-cvcourse\\lib\\site-packages\\pdf2image\\pdf2image.py\u001b[0m in \u001b[0;36mpdfinfo_from_path\u001b[1;34m(pdf_path, userpw, poppler_path, rawdates, timeout)\u001b[0m\n\u001b[0;32m    466\u001b[0m     \u001b[1;32mexcept\u001b[0m \u001b[0mOSError\u001b[0m\u001b[1;33m:\u001b[0m\u001b[1;33m\u001b[0m\u001b[0m\n\u001b[0;32m    467\u001b[0m         raise PDFInfoNotInstalledError(\n\u001b[1;32m--> 468\u001b[1;33m             \u001b[1;34m\"Unable to get page count. Is poppler installed and in PATH?\"\u001b[0m\u001b[1;33m\u001b[0m\u001b[0m\n\u001b[0m\u001b[0;32m    469\u001b[0m         )\n\u001b[0;32m    470\u001b[0m     \u001b[1;32mexcept\u001b[0m \u001b[0mValueError\u001b[0m\u001b[1;33m:\u001b[0m\u001b[1;33m\u001b[0m\u001b[0m\n",
      "\u001b[1;31mPDFInfoNotInstalledError\u001b[0m: Unable to get page count. Is poppler installed and in PATH?"
     ]
    }
   ],
   "source": [
    "## from pdf to JPEG and png\n",
    "images = convert_from_path(\"C:\\\\DataScience\\\\DeepCV\\\\Project\\\\OUTPUT\\\\OUTPUT_PDF\\\\Capture 19.pdf\", output_folder=\"C:\\\\DataScience\\\\DeepCV\\\\Project\\\\OUTPUT\\\\OUTPUT1_JPEG\\\\Capture 19.jpeg\")"
   ]
  },
  {
   "cell_type": "code",
   "execution_count": null,
   "metadata": {},
   "outputs": [],
   "source": []
  }
 ],
 "metadata": {
  "kernelspec": {
   "display_name": "Python 3",
   "language": "python",
   "name": "python3"
  },
  "language_info": {
   "codemirror_mode": {
    "name": "ipython",
    "version": 3
   },
   "file_extension": ".py",
   "mimetype": "text/x-python",
   "name": "python",
   "nbconvert_exporter": "python",
   "pygments_lexer": "ipython3",
   "version": "3.6.6"
  }
 },
 "nbformat": 4,
 "nbformat_minor": 2
}
