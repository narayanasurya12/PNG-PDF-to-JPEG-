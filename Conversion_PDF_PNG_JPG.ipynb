{
 "cells": [
  {
   "cell_type": "code",
   "execution_count": 1,
   "metadata": {},
   "outputs": [],
   "source": [
    "from pdf2image import convert_from_path\n",
    "import imagesize\n",
    "from glob import glob\n",
    "import cv2\n"
   ]
  },
  {
   "cell_type": "code",
   "execution_count": 2,
   "metadata": {},
   "outputs": [
    {
     "name": "stdout",
     "output_type": "stream",
     "text": [
      "****  The conversion from PDF to JPEG Started  ****\n",
      "Output File Name Width and Heigh : Capture 19 1206 739\n",
      "Output File Name Width and Heigh : Capture 20 1300 703\n",
      "Output File Name Width and Heigh : Capture 21 1284 834\n",
      "Output File Name Width and Heigh : Capture 22 1125 723\n",
      "Output File Name Width and Heigh : Capture 23 795 498\n",
      "Output File Name Width and Heigh : Capture 24 1239 812\n",
      "Output File Name Width and Heigh : Capture 25 1273 781\n",
      "Output File Name Width and Heigh : Capture 26 1245 759\n",
      "Output File Name Width and Heigh : Capture 27 1264 798\n",
      "Output File Name Width and Heigh : Capture 28 1125 742\n",
      "Output File Name Width and Heigh : Capture 29 553 423\n",
      "Output File Name Width and Heigh : Capture 30 1187 809\n",
      "Output File Name Width and Heigh : Capture 31 734 487\n",
      "Output File Name Width and Heigh : Capture 32 1200 795\n",
      "Output File Name Width and Heigh : Capture 33 1306 820\n",
      "Output File Name Width and Heigh : pan_1 2362 1325\n",
      "Output File Name Width and Heigh : pan_2 1842 1153\n",
      "Output File Name Width and Heigh : pan_3 1842 1153\n",
      "Output File Name Width and Heigh : pan_4 870 553\n",
      "Conversion Successful\n"
     ]
    }
   ],
   "source": [
    "## conversion of PDF Files to JPEG\n",
    "\n",
    "## Paths and Directories\n",
    "Validation = True\n",
    "source_dir=\"C:\\\\DataScience\\\\DeepCV\\\\Project\\\\OUTPUT\\\\\"\n",
    "input_pdf_path=\"OUTPUT_PDF\\\\\"\n",
    "output_conv_jpeg_path=\"OUTPUT1_JPEG\\\\\"\n",
    "format_1=\".pdf\"\n",
    "format_2=\".jpg\"\n",
    "\n",
    "while Validation:\n",
    "      print(\"****  The conversion from PDF to JPEG Started  ****\")\n",
    "      ##We are getting all the file names dynamically and length\n",
    "      data_pdf_input= glob(source_dir+input_pdf_path+\"*.pdf\")\n",
    "      length_pdf_input=len(data_pdf_input)\n",
    "      for i in range(0,length_pdf_input):\n",
    "          #print(\"Enters into loop and count is: \",i)\n",
    "          data_pdf_input_pth=data_pdf_input[i]\n",
    "          images = convert_from_path(data_pdf_input_pth)\n",
    "          index_string = data_pdf_input_pth.index(\"OUTPUT_PDF\")\n",
    "          file_name = data_pdf_input_pth[index_string+11:]\n",
    "          ##We are replacing .pdf with \"\" so that we can use it for output file name\n",
    "          file_name = file_name.replace(\".pdf\", \"\")\n",
    "          #print(\"Output File Name is: \",file_name)\n",
    "          #Saving the converted images\n",
    "          for image in images:\n",
    "              image.save(source_dir+output_conv_jpeg_path+file_name+format_2, 'JPEG')\n",
    "          #Width and length of the converted image\n",
    "          width, height = imagesize.get(source_dir+output_conv_jpeg_path+file_name+format_2)\n",
    "          print(\"Output File Name Width and Heigh :\", file_name, width, height)\n",
    "      print(\"Conversion Successful\")\n",
    "      Validation=False\n",
    "\n",
    "              "
   ]
  },
  {
   "cell_type": "code",
   "execution_count": 3,
   "metadata": {},
   "outputs": [
    {
     "name": "stdout",
     "output_type": "stream",
     "text": [
      "****  The conversion from PNG to JPEG Started  ****\n",
      "Output File Name Width and Heigh : pan_10 223 156\n",
      "Output File Name Width and Heigh : pan_12 435 272\n",
      "Output File Name Width and Heigh : pan_13 464 283\n",
      "Output File Name Width and Heigh : pan_14 456 280\n",
      "Output File Name Width and Heigh : pan_15-Copy 460 318\n",
      "Output File Name Width and Heigh : pan_15 460 318\n",
      "Output File Name Width and Heigh : pan_16-Copy 262 170\n",
      "Output File Name Width and Heigh : pan_16 262 170\n",
      "Output File Name Width and Heigh : pan_17 418 254\n",
      "Output File Name Width and Heigh : pan_18 444 287\n",
      "Output File Name Width and Heigh : pan_19 225 153\n",
      "Output File Name Width and Heigh : pan_20 461 293\n",
      "Output File Name Width and Heigh : pan_5 500 339\n",
      "Output File Name Width and Heigh : pan_6 502 318\n",
      "Output File Name Width and Heigh : pan_7 1014 654\n",
      "Output File Name Width and Heigh : pan_8 476 299\n",
      "Output File Name Width and Heigh : pan_9 479 294\n",
      "Conversion Successful\n"
     ]
    }
   ],
   "source": [
    "##Conversion from PNG TO JPEG\n",
    "\n",
    "## Paths and Directories\n",
    "Validation = True\n",
    "source_dir=\"C:\\\\DataScience\\\\DeepCV\\\\Project\\\\OUTPUT\\\\\"\n",
    "input_png_path=\"OUTPUT_PNG\\\\\"\n",
    "output_conv_jpeg_path=\"OUTPUT1_JPEG\\\\\"\n",
    "format_1=\".png\"\n",
    "format_2=\".jpg\"\n",
    "\n",
    "# Load .png image\n",
    "while Validation:\n",
    "      print(\"****  The conversion from PNG to JPEG Started  ****\")\n",
    "      ##We are getting all the file names dynamically and length\n",
    "      data_png_input = glob(source_dir+input_png_path+\"*.png\")\n",
    "      length_png_input=len(data_png_input)\n",
    "      #print(length_png_input)\n",
    "      for i in range(0,length_png_input):\n",
    "          #print(\"Enters into loop and count is: \",i)\n",
    "          data_png_input_pth = data_png_input[i]\n",
    "          #print(data_png_input_pth)\n",
    "          image = cv2.imread(data_png_input_pth)\n",
    "          index_string = data_png_input_pth.index(\"OUTPUT_PNG\")\n",
    "          file_name = data_png_input_pth[index_string+11:]\n",
    "          ##We are replacing .png with \"\" so that we can use it for output file name\n",
    "          file_name = file_name.replace(\".png\", \"\")\n",
    "          #print(\"Output File Name is: \",file_name)\n",
    "          #Saving the converted images\n",
    "          cv2.imwrite(source_dir+output_conv_jpeg_path+file_name+format_2, image, [int(cv2.IMWRITE_JPEG_QUALITY), 100])\n",
    "          #Width and length of the converted image\n",
    "          width, height = imagesize.get(source_dir+output_conv_jpeg_path+file_name+format_2)\n",
    "          print(\"Output File Name Width and Heigh :\", file_name, width, height)\n",
    "      print(\"Conversion Successful\")\n",
    "      Validation=False\n",
    "\n"
   ]
  },
  {
   "cell_type": "code",
   "execution_count": null,
   "metadata": {},
   "outputs": [],
   "source": []
  },
  {
   "cell_type": "code",
   "execution_count": null,
   "metadata": {},
   "outputs": [],
   "source": []
  }
 ],
 "metadata": {
  "kernelspec": {
   "display_name": "Python 3",
   "language": "python",
   "name": "python3"
  },
  "language_info": {
   "codemirror_mode": {
    "name": "ipython",
    "version": 3
   },
   "file_extension": ".py",
   "mimetype": "text/x-python",
   "name": "python",
   "nbconvert_exporter": "python",
   "pygments_lexer": "ipython3",
   "version": "3.6.6"
  }
 },
 "nbformat": 4,
 "nbformat_minor": 2
}
